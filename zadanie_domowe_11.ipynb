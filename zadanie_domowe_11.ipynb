{
 "cells": [
  {
   "cell_type": "code",
   "execution_count": 4,
   "id": "41008422-2b0c-4041-91a5-7b6fc3b8199c",
   "metadata": {},
   "outputs": [
    {
     "name": "stdout",
     "output_type": "stream",
     "text": [
      "15\n",
      "20\n",
      "22\n",
      "19\n",
      "30\n",
      "25\n",
      "18\n"
     ]
    }
   ],
   "source": [
    "# Lista temperatur z ostatniego tygodnia\n",
    "temperatury = [15, 20, 22, 19, 30, 25, 18]\n",
    "\n",
    "# Słownik - przypisanie temperatur do dni tygodnia\n",
    "temperatury_dni = {\n",
    "    \"Pon\": 15,\n",
    "    \"Wt\": 20,\n",
    "    \"Śr\": 22,\n",
    "    \"Czw\": 19,\n",
    "    \"Pt\": 30,\n",
    "    \"Sob\": 25,\n",
    "    \"Nd\": 18\n",
    "}\n",
    "# 1. Używając pętli for, wypisz temperatury.\n",
    "for temp in temperatury:\n",
    "    print(temp)"
   ]
  },
  {
   "cell_type": "code",
   "execution_count": 6,
   "id": "813e4ce3-1701-46fb-9aa7-53920afd333c",
   "metadata": {},
   "outputs": [
    {
     "name": "stdout",
     "output_type": "stream",
     "text": [
      "15\n",
      "20\n",
      "22\n",
      "19\n",
      "30\n"
     ]
    }
   ],
   "source": [
    "# 2. Wypisuj temperatury do momentu pierwszej wyższej niż 25°C (włącznie)\n",
    "\n",
    "for temp in temperatury:\n",
    "    print(temp)\n",
    "    if temp > 25:\n",
    "        break"
   ]
  },
  {
   "cell_type": "code",
   "execution_count": 7,
   "id": "6c81ca78-f7b9-4e3f-9b21-6e8f04ebddd0",
   "metadata": {},
   "outputs": [
    {
     "name": "stdout",
     "output_type": "stream",
     "text": [
      "15°C - chłodno\n",
      "20°C - przyjemnie\n",
      "22°C - przyjemnie\n",
      "19°C - chłodno\n",
      "30°C - gorąco\n",
      "25°C - przyjemnie\n",
      "18°C - chłodno\n"
     ]
    }
   ],
   "source": [
    "# 3. Dla każdej temperatury wykonaj sprawdzenie:\n",
    "# Jeśli temperatura jest niższa niż 20°C, wypisz „chłodno”.\n",
    "# Jeśli temperatura jest w przedziale 20–25°C, wypisz „przyjemnie”.\n",
    "# Jeśli temperatura jest wyższa niż 25°C, wypisz „gorąco”.\n",
    "\n",
    "for temp in temperatury:\n",
    "    if temp < 20:\n",
    "        print(f\"{temp}°C - chłodno\")\n",
    "    elif 20 <= temp <= 25:\n",
    "        print(f\"{temp}°C - przyjemnie\")\n",
    "    else:\n",
    "        print(f\"{temp}°C - gorąco\")"
   ]
  },
  {
   "cell_type": "code",
   "execution_count": 13,
   "id": "ad2cde63-f65d-4c62-9222-1fcc40539b73",
   "metadata": {},
   "outputs": [
    {
     "name": "stdout",
     "output_type": "stream",
     "text": [
      "Średnia temperatura: 21.29°C\n"
     ]
    }
   ],
   "source": [
    "# 4. Funkcja obliczająca średnią temperaturę\n",
    "\n",
    "def srednia_temperatura(lista_temperatur):\n",
    "    return sum(lista_temperatur) / len(lista_temperatur)\n",
    "\n",
    "srednia = srednia_temperatura(temperatury)\n",
    "print(f\"Średnia temperatura: {srednia:.2f}°C\")"
   ]
  },
  {
   "cell_type": "code",
   "execution_count": 14,
   "id": "e850694f-db67-444b-b4cd-a23c1729a4ad",
   "metadata": {},
   "outputs": [
    {
     "name": "stdout",
     "output_type": "stream",
     "text": [
      "Temperatury zwiększone o 2°C: [17, 22, 24, 21, 32, 27, 20]\n"
     ]
    }
   ],
   "source": [
    "# 6. Tworzenie nowej listy temperatur zwiększonych o 2°C\n",
    "\n",
    "nowe_temperatury = [temp + 2 for temp in temperatury]\n",
    "print(\"Temperatury zwiększone o 2°C:\", nowe_temperatury)"
   ]
  },
  {
   "cell_type": "code",
   "execution_count": 15,
   "id": "e676e8f7-df8b-49ba-8873-c945aed837ff",
   "metadata": {},
   "outputs": [
    {
     "name": "stdout",
     "output_type": "stream",
     "text": [
      "Temperatury wyższe niż 20°C: [22, 30, 25]\n"
     ]
    }
   ],
   "source": [
    "# 7. Tworzenie listy temperatur wyższych niż 20°C\n",
    "\n",
    "temp_wyzsze_niz_20 = [temp for temp in temperatury if temp > 20]\n",
    "print(\"Temperatury wyższe niż 20°C:\", temp_wyzsze_niz_20)"
   ]
  },
  {
   "cell_type": "code",
   "execution_count": null,
   "id": "03050030-feb6-4692-a135-8ff2db368b8f",
   "metadata": {},
   "outputs": [],
   "source": [
    "# Wyniki:\n",
    "\n",
    "#Średnia temperatura:** 21.29°C  \n",
    "#Najcieplejszy dzień:** Piątek (30°C)  \n",
    "#Lista dni z temperaturą powyżej 22°C:** ['Pt', 'Sob']\n"
   ]
  }
 ],
 "metadata": {
  "kernelspec": {
   "display_name": "Python 3 (ipykernel)",
   "language": "python",
   "name": "python3"
  },
  "language_info": {
   "codemirror_mode": {
    "name": "ipython",
    "version": 3
   },
   "file_extension": ".py",
   "mimetype": "text/x-python",
   "name": "python",
   "nbconvert_exporter": "python",
   "pygments_lexer": "ipython3",
   "version": "3.12.7"
  }
 },
 "nbformat": 4,
 "nbformat_minor": 5
}
